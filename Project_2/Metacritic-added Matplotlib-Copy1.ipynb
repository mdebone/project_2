{
 "cells": [
  {
   "cell_type": "code",
   "execution_count": 2,
   "id": "511b369f",
   "metadata": {},
   "outputs": [],
   "source": [
    "from splinter import Browser\n",
    "from bs4 import BeautifulSoup\n",
    "from webdriver_manager.chrome import ChromeDriverManager"
   ]
  },
  {
   "cell_type": "code",
   "execution_count": 3,
   "id": "61580320",
   "metadata": {},
   "outputs": [],
   "source": [
    "from flask import Flask, render_template, redirect\n",
    "from flask_pymongo import PyMongo\n",
    "\n",
    "# Create an instance of Flask\n",
    "app = Flask(__name__)\n",
    "\n",
    "# Use PyMongo to establish Mongo connection\n",
    "mongo = PyMongo(app, uri=\"mongodb://localhost:27017/ratings_db\")"
   ]
  },
  {
   "cell_type": "code",
   "execution_count": 4,
   "id": "197219f9",
   "metadata": {},
   "outputs": [
    {
     "name": "stdout",
     "output_type": "stream",
     "text": [
      "Requirement already satisfied: flask_pymongo in c:\\users\\sandy\\anaconda3\\lib\\site-packages (2.3.0)\n",
      "Requirement already satisfied: Flask>=0.11 in c:\\users\\sandy\\anaconda3\\lib\\site-packages (from flask_pymongo) (2.0.2)\n",
      "Requirement already satisfied: PyMongo>=3.3 in c:\\users\\sandy\\anaconda3\\lib\\site-packages (from flask_pymongo) (3.12.0)\n",
      "Requirement already satisfied: click>=7.1.2 in c:\\users\\sandy\\anaconda3\\lib\\site-packages (from Flask>=0.11->flask_pymongo) (7.1.2)\n",
      "Requirement already satisfied: Werkzeug>=2.0 in c:\\users\\sandy\\anaconda3\\lib\\site-packages (from Flask>=0.11->flask_pymongo) (2.0.2)\n",
      "Requirement already satisfied: itsdangerous>=2.0 in c:\\users\\sandy\\anaconda3\\lib\\site-packages (from Flask>=0.11->flask_pymongo) (2.0.1)\n",
      "Requirement already satisfied: Jinja2>=3.0 in c:\\users\\sandy\\anaconda3\\lib\\site-packages (from Flask>=0.11->flask_pymongo) (3.0.2)\n",
      "Requirement already satisfied: MarkupSafe>=2.0 in c:\\users\\sandy\\anaconda3\\lib\\site-packages (from Jinja2>=3.0->Flask>=0.11->flask_pymongo) (2.0.1)\n"
     ]
    },
    {
     "name": "stderr",
     "output_type": "stream",
     "text": [
      "WARNING: You are using pip version 21.2.4; however, version 21.3 is available.\n",
      "You should consider upgrading via the 'c:\\users\\sandy\\anaconda3\\python.exe -m pip install --upgrade pip' command.\n"
     ]
    }
   ],
   "source": [
    "!pip install flask_pymongo"
   ]
  },
  {
   "cell_type": "code",
   "execution_count": 5,
   "id": "1870466e",
   "metadata": {},
   "outputs": [
    {
     "name": "stdout",
     "output_type": "stream",
     "text": [
      "Requirement already satisfied: Flask in c:\\users\\sandy\\anaconda3\\lib\\site-packages (2.0.2)\n",
      "Requirement already satisfied: Werkzeug>=2.0 in c:\\users\\sandy\\anaconda3\\lib\\site-packages (from Flask) (2.0.2)\n",
      "Requirement already satisfied: itsdangerous>=2.0 in c:\\users\\sandy\\anaconda3\\lib\\site-packages (from Flask) (2.0.1)\n",
      "Requirement already satisfied: Jinja2>=3.0 in c:\\users\\sandy\\anaconda3\\lib\\site-packages (from Flask) (3.0.2)\n",
      "Requirement already satisfied: click>=7.1.2 in c:\\users\\sandy\\anaconda3\\lib\\site-packages (from Flask) (7.1.2)\n",
      "Requirement already satisfied: MarkupSafe>=2.0 in c:\\users\\sandy\\anaconda3\\lib\\site-packages (from Jinja2>=3.0->Flask) (2.0.1)\n"
     ]
    },
    {
     "name": "stderr",
     "output_type": "stream",
     "text": [
      "WARNING: You are using pip version 21.2.4; however, version 21.3 is available.\n",
      "You should consider upgrading via the 'c:\\users\\sandy\\anaconda3\\python.exe -m pip install --upgrade pip' command.\n"
     ]
    }
   ],
   "source": [
    "!pip install Flask"
   ]
  },
  {
   "cell_type": "code",
   "execution_count": 6,
   "id": "7b0a85aa",
   "metadata": {},
   "outputs": [],
   "source": [
    "import pymongo"
   ]
  },
  {
   "cell_type": "code",
   "execution_count": 7,
   "id": "58410b64",
   "metadata": {},
   "outputs": [],
   "source": [
    "# Initialize PyMongo to work with MongoDBs\n",
    "conn = 'mongodb://localhost:27017'\n",
    "client = pymongo.MongoClient(conn)"
   ]
  },
  {
   "cell_type": "code",
   "execution_count": 8,
   "id": "b5e31da8",
   "metadata": {},
   "outputs": [],
   "source": [
    "# Define database and collection\n",
    "db = client.metacritic_db\n",
    "collection = db.show_ratings"
   ]
  },
  {
   "cell_type": "code",
   "execution_count": 9,
   "id": "8f2f2c3e",
   "metadata": {},
   "outputs": [
    {
     "name": "stderr",
     "output_type": "stream",
     "text": [
      "\n",
      "\n",
      "====== WebDriver manager ======\n",
      "Current google-chrome version is 94.0.4606\n",
      "Get LATEST driver version for 94.0.4606\n",
      "Driver [C:\\Users\\sandy\\.wdm\\drivers\\chromedriver\\win32\\94.0.4606.61\\chromedriver.exe] found in cache\n"
     ]
    }
   ],
   "source": [
    "executable_path = {'executable_path': ChromeDriverManager().install()}\n",
    "browser = Browser('chrome', **executable_path, headless=False)"
   ]
  },
  {
   "cell_type": "code",
   "execution_count": 10,
   "id": "e828a87f",
   "metadata": {},
   "outputs": [],
   "source": [
    "import numpy as np\n",
    "\n",
    "# Last 3 years Metacritic Top 20 Ratings \n",
    "\n",
    "a_base_urlA = np.array([('https://www.metacritic.com/pictures/best-tv-shows-of-2021-at-midyear'),('https://www.metacritic.com/pictures/best-television-shows-of-2020'),('https://www.metacritic.com/pictures/best-new-tv-series-of-2019')])\n"
   ]
  },
  {
   "cell_type": "code",
   "execution_count": 11,
   "id": "0edc2b2b",
   "metadata": {
    "scrolled": false
   },
   "outputs": [
    {
     "name": "stdout",
     "output_type": "stream",
     "text": [
      "******************** YEAR 2021 ********************\n",
      "----------------------------------------------------------------------------------------\n",
      "Hacks: Season 1\n",
      "                                                                \n",
      "\n",
      "Rank:  1\n",
      "----------------------------------------------------------------------------------------\n",
      "Mare of Easttown: Season 1\n",
      "                                                                \n",
      "\n",
      "Rank:  2\n",
      "----------------------------------------------------------------------------------------\n",
      "All Creatures Great and Small (2021): Season 1\n",
      "                                                                \n",
      "\n",
      "Rank:  3\n",
      "----------------------------------------------------------------------------------------\n",
      "Beartown\n",
      "                                                                \n",
      "\n",
      "Rank:  4\n",
      "----------------------------------------------------------------------------------------\n",
      "Lupin: Season 1\n",
      "                                                                \n",
      "\n",
      "Rank:  5\n",
      "----------------------------------------------------------------------------------------\n",
      "Waffles and Mochi: Season 1\n",
      "                                                                \n",
      "\n",
      "Rank:  6\n",
      "----------------------------------------------------------------------------------------\n",
      "1971: The Year That Music Changed Everything\n",
      "                                                                \n",
      "\n",
      "Rank:  7\n",
      "----------------------------------------------------------------------------------------\n",
      "Exterminate All the Brutes\n",
      "                                                                \n",
      "\n",
      "Rank:  8\n",
      "----------------------------------------------------------------------------------------\n",
      "We Are Lady Parts: Season 1\n",
      "                                                                \n",
      "\n",
      "Rank:  9\n",
      "----------------------------------------------------------------------------------------\n",
      "The Crime of the Century\n",
      "                                                                \n",
      "\n",
      "Rank:  10\n",
      "----------------------------------------------------------------------------------------\n",
      "The Black Church: This Is Our Story, This Is Our Song\n",
      "                                                                \n",
      "\n",
      "Rank:  11\n",
      "----------------------------------------------------------------------------------------\n",
      "Too Close: Season 1\n",
      "                                                                \n",
      "\n",
      "Rank:  12\n",
      "----------------------------------------------------------------------------------------\n",
      "Elizabeth Is Missing\n",
      "                                                                \n",
      "\n",
      "Rank:  13\n",
      "----------------------------------------------------------------------------------------\n",
      "Painting With John: Season 1\n",
      "                                                                \n",
      "\n",
      "Rank:  14\n",
      "----------------------------------------------------------------------------------------\n",
      "Hemingway\n",
      "                                                                \n",
      "\n",
      "Rank:  15\n",
      "----------------------------------------------------------------------------------------\n",
      "Last Chance U: Basketball: Season 1\n",
      "                                                                \n",
      "\n",
      "Rank:  16\n",
      "----------------------------------------------------------------------------------------\n",
      "It's a Sin\n",
      "                                                                \n",
      "\n",
      "Rank:  17\n",
      "----------------------------------------------------------------------------------------\n",
      "Romeo & Juliet\n",
      "                                                                \n",
      "\n",
      "Rank:  18\n",
      "----------------------------------------------------------------------------------------\n",
      "The Underground Railroad\n",
      "                                                                \n",
      "\n",
      "Rank:  19\n",
      "----------------------------------------------------------------------------------------\n",
      "Bo Burnham: Inside\n",
      "                                                                \n",
      "\n",
      "Rank:  20\n",
      "***************************************************\n",
      "Source:  https://www.metacritic.com/pictures/best-tv-shows-of-2021-at-midyear\n",
      "***************************************************\n",
      "\n",
      "\n",
      "\n",
      "******************** YEAR 2020 ********************\n",
      "----------------------------------------------------------------------------------------\n",
      "Central Park   (Apple TV+)\n",
      "Rank:  1\n",
      "----------------------------------------------------------------------------------------\n",
      "Cheer  (Netflix)\n",
      "Rank:  2\n",
      "----------------------------------------------------------------------------------------\n",
      "The Plot Against America   (HBO)\n",
      "Rank:  3\n",
      "----------------------------------------------------------------------------------------\n",
      "I'll Be Gone in the Dark   (HBO)\n",
      "Rank:  4\n",
      "----------------------------------------------------------------------------------------\n",
      "Normal People   (Hulu)\n",
      "Rank:  5\n",
      "----------------------------------------------------------------------------------------\n",
      "The Midnight Gospel   (Netflix)\n",
      "Rank:  6\n",
      "----------------------------------------------------------------------------------------\n",
      "Feel Good   (Netflix)\n",
      "Rank:  7\n",
      "----------------------------------------------------------------------------------------\n",
      "The Good Lord Bird   (Showtime)\n",
      "Rank:  8\n",
      "----------------------------------------------------------------------------------------\n",
      "Little America   (Apple TV+)\n",
      "Rank:  9\n",
      "----------------------------------------------------------------------------------------\n",
      "I Hate Suzie   (HBO Max)\n",
      "Rank:  10\n",
      "----------------------------------------------------------------------------------------\n",
      "Immigration Nation   (Netflix)\n",
      "Rank:  11\n",
      "----------------------------------------------------------------------------------------\n",
      "Unorthodox   (Netflix)\n",
      "Rank:  12\n",
      "----------------------------------------------------------------------------------------\n",
      "P-Valley   (Starz)\n",
      "Rank:  13\n",
      "----------------------------------------------------------------------------------------\n",
      "I May Destroy You   (HBO)\n",
      "Rank:  14\n",
      "----------------------------------------------------------------------------------------\n",
      "Mrs. America (FX on Hulu)\n",
      "Rank:  15\n",
      "----------------------------------------------------------------------------------------\n",
      "The Baby-Sitters Club   (Netflix)\n",
      "Rank:  16\n",
      "----------------------------------------------------------------------------------------\n",
      "Lenox Hill   (Netflix)\n",
      "Rank:  17\n",
      "----------------------------------------------------------------------------------------\n",
      "Visible: Out on Television  (Apple TV+)\n",
      "Rank:  18\n",
      "----------------------------------------------------------------------------------------\n",
      "The Last Dance   (ESPN)\n",
      "Rank:  19\n",
      "----------------------------------------------------------------------------------------\n",
      "City So Real   (Nat Geo)\n",
      "Rank:  20\n",
      "***************************************************\n",
      "Source:  https://www.metacritic.com/pictures/best-television-shows-of-2020\n",
      "***************************************************\n",
      "\n",
      "\n",
      "\n",
      "******************** YEAR 2019 ********************\n",
      "----------------------------------------------------------------------------------------\n",
      "A Black Lady Sketch Show  (HBO)\n",
      "Rank:  1\n",
      "----------------------------------------------------------------------------------------\n",
      "Russian Doll  (Netflix)\n",
      "Rank:  2\n",
      "----------------------------------------------------------------------------------------\n",
      "Undone  (Prime Video)\n",
      "Rank:  3\n",
      "----------------------------------------------------------------------------------------\n",
      "Back to Life  (Showtime)\n",
      "Rank:  4\n",
      "----------------------------------------------------------------------------------------\n",
      "Ramy (Hulu)\n",
      "Rank:  5\n",
      "----------------------------------------------------------------------------------------\n",
      "Watchmen  (HBO)\n",
      "Rank:  6\n",
      "----------------------------------------------------------------------------------------\n",
      "The Dark Crystal: Age of Resistance (Netflix)\n",
      "Rank:  7\n",
      "----------------------------------------------------------------------------------------\n",
      "Surviving R. Kelly  (Lifetime)\n",
      "Rank:  8\n",
      "----------------------------------------------------------------------------------------\n",
      "Harley Quinn  (DC Universe)\n",
      "Rank:  9\n",
      "----------------------------------------------------------------------------------------\n",
      "Los Espookys  (HBO)\n",
      "Rank:  10\n",
      "----------------------------------------------------------------------------------------\n",
      "Unbelievable  (Netflix)\n",
      "Rank:  11\n"
     ]
    },
    {
     "name": "stdout",
     "output_type": "stream",
     "text": [
      "----------------------------------------------------------------------------------------\n",
      "PEN15  (Hulu)\n",
      "Rank:  12\n",
      "----------------------------------------------------------------------------------------\n",
      "Sex Education  (Netflix)\n",
      "Rank:  13\n",
      "----------------------------------------------------------------------------------------\n",
      "State of the Union  (Sundance)\n",
      "Rank:  14\n",
      "----------------------------------------------------------------------------------------\n",
      "David Makes Man  (OWN)\n",
      "Rank:  15\n",
      "----------------------------------------------------------------------------------------\n",
      "Tuca & Bertie  (Netflix)\n",
      "Rank:  16\n",
      "----------------------------------------------------------------------------------------\n",
      "What We Do in the Shadows  (FX)\n",
      "Rank:  17\n",
      "----------------------------------------------------------------------------------------\n",
      "The Other Two  (Comedy Central)\n",
      "Rank:  18\n",
      "----------------------------------------------------------------------------------------\n",
      "South Side  (Comedy Central)\n",
      "Rank:  19\n",
      "----------------------------------------------------------------------------------------\n",
      "Work in Progress  (Showtime)\n",
      "Rank:  20\n",
      "***************************************************\n",
      "Source:  https://www.metacritic.com/pictures/best-new-tv-series-of-2019\n",
      "***************************************************\n",
      "\n",
      "\n",
      "\n"
     ]
    }
   ],
   "source": [
    "# access each link for 2021\n",
    "for s in (1,2,3):\n",
    "    if(s==1):\n",
    "        print('******************** YEAR 2021 ********************')\n",
    "    elif(s==2):\n",
    "        print('******************** YEAR 2020 ********************')\n",
    "    else:\n",
    "        print('******************** YEAR 2019 ********************')\n",
    "   \n",
    "    for x in range(1,21,1):\n",
    "        \n",
    "        new_url = a_base_urlA[s-1] + \"/\" + str(x)\n",
    "    #     print(a_base_url)\n",
    "        browser.visit(new_url)\n",
    "        # scrap title, rating, and services\n",
    "        # Use Beautiful Soup's find() method to navigate and retrieve attributes\n",
    "        html = browser.html\n",
    "        # Parse HTML with Beautiful Soup\n",
    "        soup = BeautifulSoup(html, 'html.parser')\n",
    "\n",
    "        \n",
    "        title_lists = []\n",
    "        m_rating_lists = []\n",
    "        services_lists = []\n",
    "        \n",
    "        titles = soup.find_all('span', class_='product_title')\n",
    "        m_rating = soup.find('span', class_='rank')\n",
    "        services = soup.find('span', class_='byline inset_left')\n",
    "        for title in titles:\n",
    "            print('----------------------------------------------------------------------------------------')\n",
    "            print(title.text.lstrip())\n",
    "            print('Rank: ', x)\n",
    "            title_lists.append(title.text.lstrip())\n",
    "            m_rating_lists.append(title.text)\n",
    "            services_lists.append(title.text)\n",
    "        \n",
    "\n",
    "    # Click the 'Next' button on each page\n",
    "    try:\n",
    "        browser.links.find_by_partial_text('Next').click()\n",
    "\n",
    "    except:\n",
    "        print(\"Scraping Complete\")\n",
    "            \n",
    "    print('***************************************************')\n",
    "    print('Source: ', a_base_urlA[s-1])\n",
    "    print('***************************************************\\n\\n\\n')\n",
    "   "
   ]
  },
  {
   "cell_type": "code",
   "execution_count": 12,
   "id": "131aa21e",
   "metadata": {},
   "outputs": [],
   "source": [
    "# print(titles)\n",
    "# print(m_rating)\n",
    "# print(services)"
   ]
  },
  {
   "cell_type": "code",
   "execution_count": 13,
   "id": "042ce048",
   "metadata": {},
   "outputs": [
    {
     "data": {
      "text/plain": [
       "<pymongo.results.InsertOneResult at 0x2299be86500>"
      ]
     },
     "execution_count": 13,
     "metadata": {},
     "output_type": "execute_result"
    }
   ],
   "source": [
    "# Dictionary to be inserted as a MongoDB document \n",
    "post = {\n",
    "        'titles': title_lists,\n",
    "        'm_rating': m_rating_lists, \n",
    "        'services': services_lists\n",
    "        }\n",
    "\n",
    "collection.insert_one(post)"
   ]
  },
  {
   "cell_type": "code",
   "execution_count": 14,
   "id": "83d93818",
   "metadata": {},
   "outputs": [
    {
     "name": "stderr",
     "output_type": "stream",
     "text": [
      "<ipython-input-14-c85030ee1da5>:2: DeprecationWarning: update is deprecated. Use replace_one, update_one or update_many instead.\n",
      "  mongo.db.collection.update({}, post, upsert=True)\n"
     ]
    },
    {
     "ename": "WriteError",
     "evalue": "After applying the update, the (immutable) field '_id' was found to have been altered to _id: ObjectId('6164e9f389d2d3e2a508a651'), full error: {'index': 0, 'code': 66, 'errmsg': \"After applying the update, the (immutable) field '_id' was found to have been altered to _id: ObjectId('6164e9f389d2d3e2a508a651')\"}",
     "output_type": "error",
     "traceback": [
      "\u001b[1;31m---------------------------------------------------------------------------\u001b[0m",
      "\u001b[1;31mWriteError\u001b[0m                                Traceback (most recent call last)",
      "\u001b[1;32m<ipython-input-14-c85030ee1da5>\u001b[0m in \u001b[0;36m<module>\u001b[1;34m\u001b[0m\n\u001b[0;32m      1\u001b[0m \u001b[1;31m# Update the Mongo database using update and upsert=True\u001b[0m\u001b[1;33m\u001b[0m\u001b[1;33m\u001b[0m\u001b[1;33m\u001b[0m\u001b[0m\n\u001b[1;32m----> 2\u001b[1;33m \u001b[0mmongo\u001b[0m\u001b[1;33m.\u001b[0m\u001b[0mdb\u001b[0m\u001b[1;33m.\u001b[0m\u001b[0mcollection\u001b[0m\u001b[1;33m.\u001b[0m\u001b[0mupdate\u001b[0m\u001b[1;33m(\u001b[0m\u001b[1;33m{\u001b[0m\u001b[1;33m}\u001b[0m\u001b[1;33m,\u001b[0m \u001b[0mpost\u001b[0m\u001b[1;33m,\u001b[0m \u001b[0mupsert\u001b[0m\u001b[1;33m=\u001b[0m\u001b[1;32mTrue\u001b[0m\u001b[1;33m)\u001b[0m\u001b[1;33m\u001b[0m\u001b[1;33m\u001b[0m\u001b[0m\n\u001b[0m",
      "\u001b[1;32m~\\anaconda3\\lib\\site-packages\\pymongo\\collection.py\u001b[0m in \u001b[0;36mupdate\u001b[1;34m(self, spec, document, upsert, manipulate, multi, check_keys, **kwargs)\u001b[0m\n\u001b[0;32m   3363\u001b[0m         \u001b[1;32mif\u001b[0m \u001b[0mkwargs\u001b[0m\u001b[1;33m:\u001b[0m\u001b[1;33m\u001b[0m\u001b[1;33m\u001b[0m\u001b[0m\n\u001b[0;32m   3364\u001b[0m             \u001b[0mwrite_concern\u001b[0m \u001b[1;33m=\u001b[0m \u001b[0mWriteConcern\u001b[0m\u001b[1;33m(\u001b[0m\u001b[1;33m**\u001b[0m\u001b[0mkwargs\u001b[0m\u001b[1;33m)\u001b[0m\u001b[1;33m\u001b[0m\u001b[1;33m\u001b[0m\u001b[0m\n\u001b[1;32m-> 3365\u001b[1;33m         return self._update_retryable(\n\u001b[0m\u001b[0;32m   3366\u001b[0m             \u001b[0mspec\u001b[0m\u001b[1;33m,\u001b[0m \u001b[0mdocument\u001b[0m\u001b[1;33m,\u001b[0m \u001b[0mupsert\u001b[0m\u001b[1;33m,\u001b[0m \u001b[0mcheck_keys\u001b[0m\u001b[1;33m,\u001b[0m \u001b[0mmulti\u001b[0m\u001b[1;33m,\u001b[0m \u001b[0mmanipulate\u001b[0m\u001b[1;33m,\u001b[0m\u001b[1;33m\u001b[0m\u001b[1;33m\u001b[0m\u001b[0m\n\u001b[0;32m   3367\u001b[0m             write_concern, collation=collation)\n",
      "\u001b[1;32m~\\anaconda3\\lib\\site-packages\\pymongo\\collection.py\u001b[0m in \u001b[0;36m_update_retryable\u001b[1;34m(self, criteria, document, upsert, check_keys, multi, manipulate, write_concern, op_id, ordered, bypass_doc_val, collation, array_filters, hint, session)\u001b[0m\n\u001b[0;32m    875\u001b[0m                 retryable_write=retryable_write)\n\u001b[0;32m    876\u001b[0m \u001b[1;33m\u001b[0m\u001b[0m\n\u001b[1;32m--> 877\u001b[1;33m         return self.__database.client._retryable_write(\n\u001b[0m\u001b[0;32m    878\u001b[0m             \u001b[1;33m(\u001b[0m\u001b[0mwrite_concern\u001b[0m \u001b[1;32mor\u001b[0m \u001b[0mself\u001b[0m\u001b[1;33m.\u001b[0m\u001b[0mwrite_concern\u001b[0m\u001b[1;33m)\u001b[0m\u001b[1;33m.\u001b[0m\u001b[0macknowledged\u001b[0m \u001b[1;32mand\u001b[0m \u001b[1;32mnot\u001b[0m \u001b[0mmulti\u001b[0m\u001b[1;33m,\u001b[0m\u001b[1;33m\u001b[0m\u001b[1;33m\u001b[0m\u001b[0m\n\u001b[0;32m    879\u001b[0m             _update, session)\n",
      "\u001b[1;32m~\\anaconda3\\lib\\site-packages\\pymongo\\mongo_client.py\u001b[0m in \u001b[0;36m_retryable_write\u001b[1;34m(self, retryable, func, session)\u001b[0m\n\u001b[0;32m   1550\u001b[0m         \u001b[1;34m\"\"\"Internal retryable write helper.\"\"\"\u001b[0m\u001b[1;33m\u001b[0m\u001b[1;33m\u001b[0m\u001b[0m\n\u001b[0;32m   1551\u001b[0m         \u001b[1;32mwith\u001b[0m \u001b[0mself\u001b[0m\u001b[1;33m.\u001b[0m\u001b[0m_tmp_session\u001b[0m\u001b[1;33m(\u001b[0m\u001b[0msession\u001b[0m\u001b[1;33m)\u001b[0m \u001b[1;32mas\u001b[0m \u001b[0ms\u001b[0m\u001b[1;33m:\u001b[0m\u001b[1;33m\u001b[0m\u001b[1;33m\u001b[0m\u001b[0m\n\u001b[1;32m-> 1552\u001b[1;33m             \u001b[1;32mreturn\u001b[0m \u001b[0mself\u001b[0m\u001b[1;33m.\u001b[0m\u001b[0m_retry_with_session\u001b[0m\u001b[1;33m(\u001b[0m\u001b[0mretryable\u001b[0m\u001b[1;33m,\u001b[0m \u001b[0mfunc\u001b[0m\u001b[1;33m,\u001b[0m \u001b[0ms\u001b[0m\u001b[1;33m,\u001b[0m \u001b[1;32mNone\u001b[0m\u001b[1;33m)\u001b[0m\u001b[1;33m\u001b[0m\u001b[1;33m\u001b[0m\u001b[0m\n\u001b[0m\u001b[0;32m   1553\u001b[0m \u001b[1;33m\u001b[0m\u001b[0m\n\u001b[0;32m   1554\u001b[0m     \u001b[1;32mdef\u001b[0m \u001b[0m_handle_getlasterror\u001b[0m\u001b[1;33m(\u001b[0m\u001b[0mself\u001b[0m\u001b[1;33m,\u001b[0m \u001b[0maddress\u001b[0m\u001b[1;33m,\u001b[0m \u001b[0merror_msg\u001b[0m\u001b[1;33m)\u001b[0m\u001b[1;33m:\u001b[0m\u001b[1;33m\u001b[0m\u001b[1;33m\u001b[0m\u001b[0m\n",
      "\u001b[1;32m~\\anaconda3\\lib\\site-packages\\pymongo\\mongo_client.py\u001b[0m in \u001b[0;36m_retry_with_session\u001b[1;34m(self, retryable, func, session, bulk)\u001b[0m\n\u001b[0;32m   1436\u001b[0m         retryable = (retryable and self.retry_writes\n\u001b[0;32m   1437\u001b[0m                      and session and not session.in_transaction)\n\u001b[1;32m-> 1438\u001b[1;33m         \u001b[1;32mreturn\u001b[0m \u001b[0mself\u001b[0m\u001b[1;33m.\u001b[0m\u001b[0m_retry_internal\u001b[0m\u001b[1;33m(\u001b[0m\u001b[0mretryable\u001b[0m\u001b[1;33m,\u001b[0m \u001b[0mfunc\u001b[0m\u001b[1;33m,\u001b[0m \u001b[0msession\u001b[0m\u001b[1;33m,\u001b[0m \u001b[0mbulk\u001b[0m\u001b[1;33m)\u001b[0m\u001b[1;33m\u001b[0m\u001b[1;33m\u001b[0m\u001b[0m\n\u001b[0m\u001b[0;32m   1439\u001b[0m \u001b[1;33m\u001b[0m\u001b[0m\n\u001b[0;32m   1440\u001b[0m     \u001b[1;32mdef\u001b[0m \u001b[0m_retry_internal\u001b[0m\u001b[1;33m(\u001b[0m\u001b[0mself\u001b[0m\u001b[1;33m,\u001b[0m \u001b[0mretryable\u001b[0m\u001b[1;33m,\u001b[0m \u001b[0mfunc\u001b[0m\u001b[1;33m,\u001b[0m \u001b[0msession\u001b[0m\u001b[1;33m,\u001b[0m \u001b[0mbulk\u001b[0m\u001b[1;33m)\u001b[0m\u001b[1;33m:\u001b[0m\u001b[1;33m\u001b[0m\u001b[1;33m\u001b[0m\u001b[0m\n",
      "\u001b[1;32m~\\anaconda3\\lib\\site-packages\\pymongo\\mongo_client.py\u001b[0m in \u001b[0;36m_retry_internal\u001b[1;34m(self, retryable, func, session, bulk)\u001b[0m\n\u001b[0;32m   1468\u001b[0m                             \u001b[1;32mraise\u001b[0m \u001b[0mlast_error\u001b[0m\u001b[1;33m\u001b[0m\u001b[1;33m\u001b[0m\u001b[0m\n\u001b[0;32m   1469\u001b[0m                         \u001b[0mretryable\u001b[0m \u001b[1;33m=\u001b[0m \u001b[1;32mFalse\u001b[0m\u001b[1;33m\u001b[0m\u001b[1;33m\u001b[0m\u001b[0m\n\u001b[1;32m-> 1470\u001b[1;33m                     \u001b[1;32mreturn\u001b[0m \u001b[0mfunc\u001b[0m\u001b[1;33m(\u001b[0m\u001b[0msession\u001b[0m\u001b[1;33m,\u001b[0m \u001b[0msock_info\u001b[0m\u001b[1;33m,\u001b[0m \u001b[0mretryable\u001b[0m\u001b[1;33m)\u001b[0m\u001b[1;33m\u001b[0m\u001b[1;33m\u001b[0m\u001b[0m\n\u001b[0m\u001b[0;32m   1471\u001b[0m             \u001b[1;32mexcept\u001b[0m \u001b[0mServerSelectionTimeoutError\u001b[0m\u001b[1;33m:\u001b[0m\u001b[1;33m\u001b[0m\u001b[1;33m\u001b[0m\u001b[0m\n\u001b[0;32m   1472\u001b[0m                 \u001b[1;32mif\u001b[0m \u001b[0mis_retrying\u001b[0m\u001b[1;33m(\u001b[0m\u001b[1;33m)\u001b[0m\u001b[1;33m:\u001b[0m\u001b[1;33m\u001b[0m\u001b[1;33m\u001b[0m\u001b[0m\n",
      "\u001b[1;32m~\\anaconda3\\lib\\site-packages\\pymongo\\collection.py\u001b[0m in \u001b[0;36m_update\u001b[1;34m(session, sock_info, retryable_write)\u001b[0m\n\u001b[0;32m    867\u001b[0m         \u001b[1;34m\"\"\"Internal update / replace helper.\"\"\"\u001b[0m\u001b[1;33m\u001b[0m\u001b[1;33m\u001b[0m\u001b[0m\n\u001b[0;32m    868\u001b[0m         \u001b[1;32mdef\u001b[0m \u001b[0m_update\u001b[0m\u001b[1;33m(\u001b[0m\u001b[0msession\u001b[0m\u001b[1;33m,\u001b[0m \u001b[0msock_info\u001b[0m\u001b[1;33m,\u001b[0m \u001b[0mretryable_write\u001b[0m\u001b[1;33m)\u001b[0m\u001b[1;33m:\u001b[0m\u001b[1;33m\u001b[0m\u001b[1;33m\u001b[0m\u001b[0m\n\u001b[1;32m--> 869\u001b[1;33m             return self._update(\n\u001b[0m\u001b[0;32m    870\u001b[0m                 \u001b[0msock_info\u001b[0m\u001b[1;33m,\u001b[0m \u001b[0mcriteria\u001b[0m\u001b[1;33m,\u001b[0m \u001b[0mdocument\u001b[0m\u001b[1;33m,\u001b[0m \u001b[0mupsert\u001b[0m\u001b[1;33m=\u001b[0m\u001b[0mupsert\u001b[0m\u001b[1;33m,\u001b[0m\u001b[1;33m\u001b[0m\u001b[1;33m\u001b[0m\u001b[0m\n\u001b[0;32m    871\u001b[0m                 \u001b[0mcheck_keys\u001b[0m\u001b[1;33m=\u001b[0m\u001b[0mcheck_keys\u001b[0m\u001b[1;33m,\u001b[0m \u001b[0mmulti\u001b[0m\u001b[1;33m=\u001b[0m\u001b[0mmulti\u001b[0m\u001b[1;33m,\u001b[0m \u001b[0mmanipulate\u001b[0m\u001b[1;33m=\u001b[0m\u001b[0mmanipulate\u001b[0m\u001b[1;33m,\u001b[0m\u001b[1;33m\u001b[0m\u001b[1;33m\u001b[0m\u001b[0m\n",
      "\u001b[1;32m~\\anaconda3\\lib\\site-packages\\pymongo\\collection.py\u001b[0m in \u001b[0;36m_update\u001b[1;34m(self, sock_info, criteria, document, upsert, check_keys, multi, manipulate, write_concern, op_id, ordered, bypass_doc_val, collation, array_filters, hint, session, retryable_write)\u001b[0m\n\u001b[0;32m    844\u001b[0m             \u001b[0mclient\u001b[0m\u001b[1;33m=\u001b[0m\u001b[0mself\u001b[0m\u001b[1;33m.\u001b[0m\u001b[0m__database\u001b[0m\u001b[1;33m.\u001b[0m\u001b[0mclient\u001b[0m\u001b[1;33m,\u001b[0m\u001b[1;33m\u001b[0m\u001b[1;33m\u001b[0m\u001b[0m\n\u001b[0;32m    845\u001b[0m             retryable_write=retryable_write).copy()\n\u001b[1;32m--> 846\u001b[1;33m         \u001b[0m_check_write_command_response\u001b[0m\u001b[1;33m(\u001b[0m\u001b[0mresult\u001b[0m\u001b[1;33m)\u001b[0m\u001b[1;33m\u001b[0m\u001b[1;33m\u001b[0m\u001b[0m\n\u001b[0m\u001b[0;32m    847\u001b[0m         \u001b[1;31m# Add the updatedExisting field for compatibility.\u001b[0m\u001b[1;33m\u001b[0m\u001b[1;33m\u001b[0m\u001b[1;33m\u001b[0m\u001b[0m\n\u001b[0;32m    848\u001b[0m         \u001b[1;32mif\u001b[0m \u001b[0mresult\u001b[0m\u001b[1;33m.\u001b[0m\u001b[0mget\u001b[0m\u001b[1;33m(\u001b[0m\u001b[1;34m'n'\u001b[0m\u001b[1;33m)\u001b[0m \u001b[1;32mand\u001b[0m \u001b[1;34m'upserted'\u001b[0m \u001b[1;32mnot\u001b[0m \u001b[1;32min\u001b[0m \u001b[0mresult\u001b[0m\u001b[1;33m:\u001b[0m\u001b[1;33m\u001b[0m\u001b[1;33m\u001b[0m\u001b[0m\n",
      "\u001b[1;32m~\\anaconda3\\lib\\site-packages\\pymongo\\helpers.py\u001b[0m in \u001b[0;36m_check_write_command_response\u001b[1;34m(result)\u001b[0m\n\u001b[0;32m    227\u001b[0m     \u001b[0mwrite_errors\u001b[0m \u001b[1;33m=\u001b[0m \u001b[0mresult\u001b[0m\u001b[1;33m.\u001b[0m\u001b[0mget\u001b[0m\u001b[1;33m(\u001b[0m\u001b[1;34m\"writeErrors\"\u001b[0m\u001b[1;33m)\u001b[0m\u001b[1;33m\u001b[0m\u001b[1;33m\u001b[0m\u001b[0m\n\u001b[0;32m    228\u001b[0m     \u001b[1;32mif\u001b[0m \u001b[0mwrite_errors\u001b[0m\u001b[1;33m:\u001b[0m\u001b[1;33m\u001b[0m\u001b[1;33m\u001b[0m\u001b[0m\n\u001b[1;32m--> 229\u001b[1;33m         \u001b[0m_raise_last_write_error\u001b[0m\u001b[1;33m(\u001b[0m\u001b[0mwrite_errors\u001b[0m\u001b[1;33m)\u001b[0m\u001b[1;33m\u001b[0m\u001b[1;33m\u001b[0m\u001b[0m\n\u001b[0m\u001b[0;32m    230\u001b[0m \u001b[1;33m\u001b[0m\u001b[0m\n\u001b[0;32m    231\u001b[0m     \u001b[0merror\u001b[0m \u001b[1;33m=\u001b[0m \u001b[0mresult\u001b[0m\u001b[1;33m.\u001b[0m\u001b[0mget\u001b[0m\u001b[1;33m(\u001b[0m\u001b[1;34m\"writeConcernError\"\u001b[0m\u001b[1;33m)\u001b[0m\u001b[1;33m\u001b[0m\u001b[1;33m\u001b[0m\u001b[0m\n",
      "\u001b[1;32m~\\anaconda3\\lib\\site-packages\\pymongo\\helpers.py\u001b[0m in \u001b[0;36m_raise_last_write_error\u001b[1;34m(write_errors)\u001b[0m\n\u001b[0;32m    209\u001b[0m     \u001b[1;32mif\u001b[0m \u001b[0merror\u001b[0m\u001b[1;33m.\u001b[0m\u001b[0mget\u001b[0m\u001b[1;33m(\u001b[0m\u001b[1;34m\"code\"\u001b[0m\u001b[1;33m)\u001b[0m \u001b[1;33m==\u001b[0m \u001b[1;36m11000\u001b[0m\u001b[1;33m:\u001b[0m\u001b[1;33m\u001b[0m\u001b[1;33m\u001b[0m\u001b[0m\n\u001b[0;32m    210\u001b[0m         \u001b[1;32mraise\u001b[0m \u001b[0mDuplicateKeyError\u001b[0m\u001b[1;33m(\u001b[0m\u001b[0merror\u001b[0m\u001b[1;33m.\u001b[0m\u001b[0mget\u001b[0m\u001b[1;33m(\u001b[0m\u001b[1;34m\"errmsg\"\u001b[0m\u001b[1;33m)\u001b[0m\u001b[1;33m,\u001b[0m \u001b[1;36m11000\u001b[0m\u001b[1;33m,\u001b[0m \u001b[0merror\u001b[0m\u001b[1;33m)\u001b[0m\u001b[1;33m\u001b[0m\u001b[1;33m\u001b[0m\u001b[0m\n\u001b[1;32m--> 211\u001b[1;33m     \u001b[1;32mraise\u001b[0m \u001b[0mWriteError\u001b[0m\u001b[1;33m(\u001b[0m\u001b[0merror\u001b[0m\u001b[1;33m.\u001b[0m\u001b[0mget\u001b[0m\u001b[1;33m(\u001b[0m\u001b[1;34m\"errmsg\"\u001b[0m\u001b[1;33m)\u001b[0m\u001b[1;33m,\u001b[0m \u001b[0merror\u001b[0m\u001b[1;33m.\u001b[0m\u001b[0mget\u001b[0m\u001b[1;33m(\u001b[0m\u001b[1;34m\"code\"\u001b[0m\u001b[1;33m)\u001b[0m\u001b[1;33m,\u001b[0m \u001b[0merror\u001b[0m\u001b[1;33m)\u001b[0m\u001b[1;33m\u001b[0m\u001b[1;33m\u001b[0m\u001b[0m\n\u001b[0m\u001b[0;32m    212\u001b[0m \u001b[1;33m\u001b[0m\u001b[0m\n\u001b[0;32m    213\u001b[0m \u001b[1;33m\u001b[0m\u001b[0m\n",
      "\u001b[1;31mWriteError\u001b[0m: After applying the update, the (immutable) field '_id' was found to have been altered to _id: ObjectId('6164e9f389d2d3e2a508a651'), full error: {'index': 0, 'code': 66, 'errmsg': \"After applying the update, the (immutable) field '_id' was found to have been altered to _id: ObjectId('6164e9f389d2d3e2a508a651')\"}"
     ]
    }
   ],
   "source": [
    "# Update the Mongo database using update and upsert=True\n",
    "mongo.db.collection.update({}, post, upsert=True)"
   ]
  },
  {
   "cell_type": "code",
   "execution_count": null,
   "id": "21d39d3e",
   "metadata": {
    "scrolled": true
   },
   "outputs": [],
   "source": [
    "# expected output: \n",
    "#                     [{\"Name\" : \"Burnham\",\n",
    "#                     \"Rating\": 89,\n",
    "#                     \"Services\": \"HBO\",\n",
    "#                     \"href\" : \"<link to the detailed web page>\"\n",
    "#                     },\n",
    "#                     {\"Name\" : \"Burnham\",\n",
    "#                     \"Rating\": 89,\n",
    "#                     \"Services\": \"HBO\",\n",
    "#                     \"href\" : \"<link to the detailed web page>\"\n",
    "#                     },\n",
    "#                    {\"Name\" : \"Burnham\",\n",
    "#                     \"Rating\": 89,\n",
    "#                     \"Services\": \"HBO\",\n",
    "#                     \"href\" : \"<link to the detailed web page>\"\n",
    "#                     }\n",
    "#                     ]\n",
    "    \n"
   ]
  },
  {
   "cell_type": "code",
   "execution_count": null,
   "id": "50497e77",
   "metadata": {},
   "outputs": [],
   "source": [
    "\n"
   ]
  },
  {
   "cell_type": "code",
   "execution_count": null,
   "id": "2c053d34",
   "metadata": {},
   "outputs": [],
   "source": [
    "\n"
   ]
  }
 ],
 "metadata": {
  "kernelspec": {
   "display_name": "Python [conda env:root] *",
   "language": "python",
   "name": "conda-root-py"
  },
  "language_info": {
   "codemirror_mode": {
    "name": "ipython",
    "version": 3
   },
   "file_extension": ".py",
   "mimetype": "text/x-python",
   "name": "python",
   "nbconvert_exporter": "python",
   "pygments_lexer": "ipython3",
   "version": "3.8.8"
  }
 },
 "nbformat": 4,
 "nbformat_minor": 5
}
