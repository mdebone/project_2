{
 "cells": [
  {
   "cell_type": "code",
   "execution_count": null,
   "id": "fc0b4514-477b-4253-be86-ee5e3d6e7881",
   "metadata": {},
   "outputs": [],
   "source": [
    "from splinter import Browser\n",
    "from bs4 import BeautifulSoup\n",
    "from webdriver_manager.chrome import ChromeDriverManager"
   ]
  },
  {
   "cell_type": "code",
   "execution_count": null,
   "id": "d1da7568-6482-4178-9d16-b1a67e352116",
   "metadata": {},
   "outputs": [],
   "source": [
    "executable_path = {'executable_path': ChromeDriverManager().install()}\n",
    "browser = Browser('chrome', **executable_path, headless=False)"
   ]
  },
  {
   "cell_type": "code",
   "execution_count": null,
   "id": "7aaa2e3d-a4cc-49a0-b55b-0cc234bd236c",
   "metadata": {},
   "outputs": [],
   "source": [
    "url = 'https://www.imdb.com/'\n",
    "browser.visit(url)"
   ]
  },
  {
   "cell_type": "code",
   "execution_count": null,
   "id": "b1a83db1-f101-4798-935a-02870f2ace5e",
   "metadata": {},
   "outputs": [],
   "source": [
    "#some of this may not be relevant\n",
    "html = browser.html\n",
    "soup = BeautifulSoup(html, 'html.parser')\n",
    "\n",
    "sidebar = soup.find('ul', class_='navigator-menu')\n",
    "\n",
    "streaming = sidebar.find('li', class_=\"active\")\n",
    "\n"
   ]
  },
  {
   "cell_type": "code",
   "execution_count": null,
   "id": "b3cd7bb6-862d-4ea1-b37b-c5c7a7a8142b",
   "metadata": {},
   "outputs": [],
   "source": [
    "shows = []\n",
    "browser.visit(url)\n",
    "for x in range(1,50):\n",
    "    soup = BeautifulSoup(browser.html, \"lxml\")\n",
    "    for article in soup.find_all(\"tbody\", class_=\"lister_list\"):\n",
    "        title = td.class_\"titleColumn\"[\"title\"]\n",
    "        image = td.class[\"posterColumn\"]\n",
    "        release_year = td.span[\"secondaryInfo\"]\n",
    "        link = tbody.a['href']\n",
    "        imdb_rating = td.class_[\"imdbRating\"]\n",
    "        \n",
    "        show = {\n",
    "            \"title\":title,\n",
    "            \"image\":image,\n",
    "            \"year\":release_year,\n",
    "            \"link\":link,\n",
    "            \"rating\":imdb_rating \n",
    "        }\n",
    "        shows.append(show)\n",
    "        try:\n",
    "            browser.links.find_by_partial_text('next').click()\n",
    "        except:\n",
    "            print(\"Scraping Complete\")\n",
    "browser.quit()"
   ]
  }
 ],
 "metadata": {
  "kernelspec": {
   "display_name": "Python 3",
   "language": "python",
   "name": "python3"
  },
  "language_info": {
   "codemirror_mode": {
    "name": "ipython",
    "version": 3
   },
   "file_extension": ".py",
   "mimetype": "text/x-python",
   "name": "python",
   "nbconvert_exporter": "python",
   "pygments_lexer": "ipython3",
   "version": "3.6.13"
  }
 },
 "nbformat": 4,
 "nbformat_minor": 5
}
