{
 "cells": [
  {
   "cell_type": "code",
   "execution_count": 2,
   "id": "1758100d",
   "metadata": {},
   "outputs": [],
   "source": [
    "import pandas as pd\n",
    "import matplotlib.pyplot as plt\n",
    "import scipy.stats as sts\n",
    "import numpy as np"
   ]
  },
  {
   "cell_type": "code",
   "execution_count": 4,
   "id": "cdbea7f5",
   "metadata": {
    "scrolled": true
   },
   "outputs": [
    {
     "data": {
      "text/html": [
       "<div>\n",
       "<style scoped>\n",
       "    .dataframe tbody tr th:only-of-type {\n",
       "        vertical-align: middle;\n",
       "    }\n",
       "\n",
       "    .dataframe tbody tr th {\n",
       "        vertical-align: top;\n",
       "    }\n",
       "\n",
       "    .dataframe thead th {\n",
       "        text-align: right;\n",
       "    }\n",
       "</style>\n",
       "<table border=\"1\" class=\"dataframe\">\n",
       "  <thead>\n",
       "    <tr style=\"text-align: right;\">\n",
       "      <th></th>\n",
       "      <th>Apple</th>\n",
       "      <th>Disney+</th>\n",
       "      <th>Genres</th>\n",
       "      <th>HBO</th>\n",
       "      <th>Hulu</th>\n",
       "      <th>IMDb</th>\n",
       "      <th>Netflix</th>\n",
       "      <th>Prime Video</th>\n",
       "      <th>Rotten Tomatoes</th>\n",
       "      <th>Title</th>\n",
       "      <th>Year</th>\n",
       "      <th>_id</th>\n",
       "    </tr>\n",
       "  </thead>\n",
       "  <tbody>\n",
       "    <tr>\n",
       "      <th>0</th>\n",
       "      <td>False</td>\n",
       "      <td>False</td>\n",
       "      <td>Biography,Crime,Drama</td>\n",
       "      <td>False</td>\n",
       "      <td>False</td>\n",
       "      <td>7.8</td>\n",
       "      <td>True</td>\n",
       "      <td>False</td>\n",
       "      <td>98.0</td>\n",
       "      <td>The Irishman</td>\n",
       "      <td>2019</td>\n",
       "      <td>616528458a2fde8299a2aa91</td>\n",
       "    </tr>\n",
       "    <tr>\n",
       "      <th>1</th>\n",
       "      <td>False</td>\n",
       "      <td>False</td>\n",
       "      <td>Documentary,Biography</td>\n",
       "      <td>False</td>\n",
       "      <td>False</td>\n",
       "      <td>9.0</td>\n",
       "      <td>True</td>\n",
       "      <td>False</td>\n",
       "      <td>95.0</td>\n",
       "      <td>David Attenborough: A Life on Our Planet</td>\n",
       "      <td>2020</td>\n",
       "      <td>616528458a2fde8299a2aa93</td>\n",
       "    </tr>\n",
       "    <tr>\n",
       "      <th>2</th>\n",
       "      <td>False</td>\n",
       "      <td>False</td>\n",
       "      <td>Documentary,Drama</td>\n",
       "      <td>False</td>\n",
       "      <td>False</td>\n",
       "      <td>7.6</td>\n",
       "      <td>True</td>\n",
       "      <td>False</td>\n",
       "      <td>93.0</td>\n",
       "      <td>The Social Dilemma</td>\n",
       "      <td>2020</td>\n",
       "      <td>616528458a2fde8299a2aa97</td>\n",
       "    </tr>\n",
       "    <tr>\n",
       "      <th>3</th>\n",
       "      <td>False</td>\n",
       "      <td>False</td>\n",
       "      <td>Drama,History,Thriller</td>\n",
       "      <td>False</td>\n",
       "      <td>False</td>\n",
       "      <td>7.8</td>\n",
       "      <td>True</td>\n",
       "      <td>False</td>\n",
       "      <td>92.0</td>\n",
       "      <td>The Trial of the Chicago 7</td>\n",
       "      <td>2020</td>\n",
       "      <td>616528458a2fde8299a2aa9a</td>\n",
       "    </tr>\n",
       "    <tr>\n",
       "      <th>4</th>\n",
       "      <td>False</td>\n",
       "      <td>False</td>\n",
       "      <td>Crime,Drama,Mystery,Thriller</td>\n",
       "      <td>False</td>\n",
       "      <td>False</td>\n",
       "      <td>8.2</td>\n",
       "      <td>True</td>\n",
       "      <td>False</td>\n",
       "      <td>92.0</td>\n",
       "      <td>Article 15</td>\n",
       "      <td>2019</td>\n",
       "      <td>616528458a2fde8299a2aa9b</td>\n",
       "    </tr>\n",
       "  </tbody>\n",
       "</table>\n",
       "</div>"
      ],
      "text/plain": [
       "   Apple Disney+                        Genres    HBO   Hulu  IMDb Netflix  \\\n",
       "0  False   False         Biography,Crime,Drama  False  False   7.8    True   \n",
       "1  False   False         Documentary,Biography  False  False   9.0    True   \n",
       "2  False   False             Documentary,Drama  False  False   7.6    True   \n",
       "3  False   False        Drama,History,Thriller  False  False   7.8    True   \n",
       "4  False   False  Crime,Drama,Mystery,Thriller  False  False   8.2    True   \n",
       "\n",
       "  Prime Video  Rotten Tomatoes                                     Title  \\\n",
       "0       False             98.0                              The Irishman   \n",
       "1       False             95.0  David Attenborough: A Life on Our Planet   \n",
       "2       False             93.0                        The Social Dilemma   \n",
       "3       False             92.0                The Trial of the Chicago 7   \n",
       "4       False             92.0                                Article 15   \n",
       "\n",
       "   Year                       _id  \n",
       "0  2019  616528458a2fde8299a2aa91  \n",
       "1  2020  616528458a2fde8299a2aa93  \n",
       "2  2020  616528458a2fde8299a2aa97  \n",
       "3  2020  616528458a2fde8299a2aa9a  \n",
       "4  2019  616528458a2fde8299a2aa9b  "
      ]
     },
     "execution_count": 4,
     "metadata": {},
     "output_type": "execute_result"
    }
   ],
   "source": [
    "# data files\n",
    "multi_df = pd.read_csv('../Resources/Multi/CLEAN.csv')\n",
    "multi = multi_df['_id']\n",
    "multi_df.head()"
   ]
  },
  {
   "cell_type": "code",
   "execution_count": 12,
   "id": "76d7ed8e",
   "metadata": {},
   "outputs": [
    {
     "name": "stdout",
     "output_type": "stream",
     "text": [
      "False    1978\n",
      "True       10\n",
      "Name: Apple, dtype: int64\n",
      "False    1863\n",
      "True      125\n",
      "Name: Disney+, dtype: int64\n",
      "False    1929\n",
      "True       59\n",
      "Name: HBO, dtype: int64\n",
      "False    1709\n",
      "True      279\n",
      "Name: Hulu, dtype: int64\n",
      "True     1079\n",
      "False     908\n",
      "Name: Netflix, dtype: int64\n",
      "False    1524\n",
      "True      464\n",
      "Name: Prime Video, dtype: int64\n"
     ]
    }
   ],
   "source": [
    "apple = multi_df[\"Apple\"].value_counts()\n",
    "disney = multi_df[\"Disney+\"].value_counts()\n",
    "hbo = multi_df[\"HBO\"].value_counts()\n",
    "hulu = multi_df[\"Hulu\"].value_counts()\n",
    "netlix = multi_df[\"Netflix\"].value_counts()\n",
    "prime = multi_df[\"Prime Video\"].value_counts()\n",
    "print (apple)\n",
    "print(disney)\n",
    "print(hbo)\n",
    "print(hulu)\n",
    "print(netlix)\n",
    "print(prime)"
   ]
  },
  {
   "cell_type": "code",
   "execution_count": 13,
   "id": "1987bb06",
   "metadata": {
    "scrolled": false
   },
   "outputs": [
    {
     "data": {
      "text/plain": [
       "Apple               object\n",
       "Disney+             object\n",
       "Genres              object\n",
       "HBO                 object\n",
       "Hulu                object\n",
       "IMDb               float64\n",
       "Netflix             object\n",
       "Prime Video         object\n",
       "Rotten Tomatoes    float64\n",
       "Title               object\n",
       "Year                 int64\n",
       "_id                 object\n",
       "dtype: object"
      ]
     },
     "execution_count": 13,
     "metadata": {},
     "output_type": "execute_result"
    }
   ],
   "source": [
    "multi_df.dtypes"
   ]
  },
  {
   "cell_type": "code",
   "execution_count": null,
   "id": "653d8325",
   "metadata": {},
   "outputs": [],
   "source": [
    "multi_df[[\"Year\", \"Inches\"]].set_index(\"State\").plot()"
   ]
  },
  {
   "cell_type": "code",
   "execution_count": 5,
   "id": "021da66a",
   "metadata": {},
   "outputs": [
    {
     "ename": "SyntaxError",
     "evalue": "invalid syntax (<ipython-input-5-16ee90db1554>, line 3)",
     "output_type": "error",
     "traceback": [
      "\u001b[1;36m  File \u001b[1;32m\"<ipython-input-5-16ee90db1554>\"\u001b[1;36m, line \u001b[1;32m3\u001b[0m\n\u001b[1;33m    most ranked = [49, 92, 84, 53]\u001b[0m\n\u001b[1;37m         ^\u001b[0m\n\u001b[1;31mSyntaxError\u001b[0m\u001b[1;31m:\u001b[0m invalid syntax\n"
     ]
    }
   ],
   "source": [
    "# Dataset 1\n",
    "services = [\"Apple\", \"Disney+\", \"HBO\", \"Hulu\",\"Netflix\",\"Prime Video\"]\n",
    "most ranked = [49, 92, 84, 53]\n",
    "colors = [\"yellowgreen\", \"red\", \"lightcoral\", \"lightskyblue\"]\n",
    "explode = (0, 0.05, 0, 0)"
   ]
  }
 ],
 "metadata": {
  "kernelspec": {
   "display_name": "Python [conda env:root] *",
   "language": "python",
   "name": "conda-root-py"
  },
  "language_info": {
   "codemirror_mode": {
    "name": "ipython",
    "version": 3
   },
   "file_extension": ".py",
   "mimetype": "text/x-python",
   "name": "python",
   "nbconvert_exporter": "python",
   "pygments_lexer": "ipython3",
   "version": "3.8.8"
  }
 },
 "nbformat": 4,
 "nbformat_minor": 5
}
