{
 "cells": [
  {
   "cell_type": "code",
   "execution_count": 1,
   "id": "c3016856-ec21-467f-a73a-30849723bc32",
   "metadata": {},
   "outputs": [],
   "source": [
    "from splinter import Browser\n",
    "from bs4 import BeautifulSoup\n",
    "from webdriver_manager.chrome import ChromeDriverManager"
   ]
  },
  {
   "cell_type": "code",
   "execution_count": 2,
   "id": "acae88e8-17a8-43b7-bfdc-2139ccd8323c",
   "metadata": {},
   "outputs": [
    {
     "name": "stderr",
     "output_type": "stream",
     "text": [
      "\n",
      "\n",
      "====== WebDriver manager ======\n",
      "Current google-chrome version is 94.0.4606\n",
      "Get LATEST driver version for 94.0.4606\n",
      "Driver [C:\\Users\\mdebo\\.wdm\\drivers\\chromedriver\\win32\\94.0.4606.61\\chromedriver.exe] found in cache\n"
     ]
    }
   ],
   "source": [
    "executable_path = {'executable_path': ChromeDriverManager().install()}\n",
    "browser = Browser('chrome', **executable_path, headless=False)"
   ]
  },
  {
   "cell_type": "code",
   "execution_count": 3,
   "id": "1c1df887-c88f-41b2-9931-b08a044dc148",
   "metadata": {},
   "outputs": [],
   "source": [
    "url = 'https://www.rottentomatoes.com/'\n",
    "browser.visit(url)"
   ]
  },
  {
   "cell_type": "code",
   "execution_count": 4,
   "id": "cc32bee3-9084-4f6d-a323-17356a3dc650",
   "metadata": {},
   "outputs": [
    {
     "ename": "AttributeError",
     "evalue": "'NoneType' object has no attribute 'find'",
     "output_type": "error",
     "traceback": [
      "\u001b[1;31m---------------------------------------------------------------------------\u001b[0m",
      "\u001b[1;31mAttributeError\u001b[0m                            Traceback (most recent call last)",
      "\u001b[1;32m<ipython-input-4-57b537eeba4a>\u001b[0m in \u001b[0;36m<module>\u001b[1;34m\u001b[0m\n\u001b[0;32m      4\u001b[0m \u001b[0msidebar\u001b[0m \u001b[1;33m=\u001b[0m \u001b[0msoup\u001b[0m\u001b[1;33m.\u001b[0m\u001b[0mfind\u001b[0m\u001b[1;33m(\u001b[0m\u001b[1;34m'ul'\u001b[0m\u001b[1;33m,\u001b[0m \u001b[0mclass_\u001b[0m\u001b[1;33m=\u001b[0m\u001b[1;34m'navigator-menu'\u001b[0m\u001b[1;33m)\u001b[0m\u001b[1;33m\u001b[0m\u001b[1;33m\u001b[0m\u001b[0m\n\u001b[0;32m      5\u001b[0m \u001b[1;33m\u001b[0m\u001b[0m\n\u001b[1;32m----> 6\u001b[1;33m \u001b[0mstreaming\u001b[0m \u001b[1;33m=\u001b[0m \u001b[0msidebar\u001b[0m\u001b[1;33m.\u001b[0m\u001b[0mfind\u001b[0m\u001b[1;33m(\u001b[0m\u001b[1;34m'li'\u001b[0m\u001b[1;33m,\u001b[0m \u001b[0mclass_\u001b[0m\u001b[1;33m=\u001b[0m\u001b[1;34m\"active\"\u001b[0m\u001b[1;33m)\u001b[0m\u001b[1;33m\u001b[0m\u001b[1;33m\u001b[0m\u001b[0m\n\u001b[0m\u001b[0;32m      7\u001b[0m \u001b[1;33m\u001b[0m\u001b[0m\n",
      "\u001b[1;31mAttributeError\u001b[0m: 'NoneType' object has no attribute 'find'"
     ]
    }
   ],
   "source": [
    "html = browser.html\n",
    "soup = BeautifulSoup(html, 'html.parser')\n",
    "\n",
    "sidebar = soup.find('ul', class_='navigator-menu')\n",
    "\n",
    "streaming = sidebar.find('li', class_=\"active\")\n",
    "\n"
   ]
  },
  {
   "cell_type": "code",
   "execution_count": null,
   "id": "e71a3c32-fc4f-41a3-b885-a7316ce091a1",
   "metadata": {},
   "outputs": [],
   "source": [
    "# Examine the results and look for a div withe the class 'top-matter'\n",
    "results = soup.find_all('div', class_='mb-movie')"
   ]
  },
  {
   "cell_type": "code",
   "execution_count": null,
   "id": "73e440af-c5b5-434b-8bae-25a0786d6379",
   "metadata": {},
   "outputs": [],
   "source": [
    "movie = []\n",
    "browser.visit(url)\n",
    "for x in range(1,50):\n",
    "\n",
    "# Loop through returned results\n",
    "for result in results:\n",
    "    link = div.a.['href']\n",
    "    image = div.a.img['src']\n",
    "    title = div.a.h3['movieTitle']\n",
    "    tomato_score = div.span['tMeterScore\"]\n",
    "    release_date = div.a.p[\"release-date\"]\n",
    "    # Retrieve the thread title\n",
    "    h3 class_'movieTitle'\n",
    "    \n",
    "    # retrieve the tomatoe score\n",
    "    span class_'tMeterScore'\n",
    "    \n",
    "    # release date\n",
    "    p class_'release-date'\n",
    "                            \n",
    "    movie = {\n",
    "            \"Title\":title,\n",
    "            \"Image\":image,\n",
    "            \"Score\":tomato_score,\n",
    "            \"Release\": release_date,\n",
    "            \"Link\": link,\n",
    "        }\n",
    "        movie.append(movie)   \n",
    "                            \n",
    "                            \n",
    "        \"show more\" button                    "
   ]
  },
  {
   "cell_type": "code",
   "execution_count": null,
   "id": "32ff79de-7dfc-4a17-99a6-ec221b1e354f",
   "metadata": {},
   "outputs": [],
   "source": [
    "for article in soup.find_all(\"article\", class_=\"product_pod\"):"
   ]
  },
  {
   "cell_type": "code",
   "execution_count": null,
   "id": "fb2fc5e5-c75f-4f39-ad23-f099556200c5",
   "metadata": {},
   "outputs": [],
   "source": []
  }
 ],
 "metadata": {
  "kernelspec": {
   "display_name": "Python 3",
   "language": "python",
   "name": "python3"
  },
  "language_info": {
   "codemirror_mode": {
    "name": "ipython",
    "version": 3
   },
   "file_extension": ".py",
   "mimetype": "text/x-python",
   "name": "python",
   "nbconvert_exporter": "python",
   "pygments_lexer": "ipython3",
   "version": "3.8.8"
  }
 },
 "nbformat": 4,
 "nbformat_minor": 5
}
